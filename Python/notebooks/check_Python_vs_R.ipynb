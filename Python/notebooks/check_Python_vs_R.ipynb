{
 "nbformat": 4,
 "nbformat_minor": 2,
 "metadata": {
  "language_info": {
   "name": "python",
   "codemirror_mode": {
    "name": "ipython",
    "version": 3
   },
   "version": "3.7.4-final"
  },
  "orig_nbformat": 2,
  "file_extension": ".py",
  "mimetype": "text/x-python",
  "name": "python",
  "npconvert_exporter": "python",
  "pygments_lexer": "ipython3",
  "version": 3,
  "kernelspec": {
   "name": "python361064bit3e91ddba7c24416cb034cd8e896676e9",
   "display_name": "Python 3.6.10 64-bit"
  }
 },
 "cells": [
  {
   "cell_type": "markdown",
   "metadata": {},
   "source": [
    "# Check input data produced by Python against the one produced by R\n",
    "data have been pickled at the end of preprocess before using in STAN model\n",
    "\n",
    "R and Python generating scripts should be launched before\n",
    "\n",
    "R: `Rscript dump-input-base-region-france.r --full` \n",
    "\n",
    "Python : `python Python/src/run-model.py --full --only-dump-input`\n",
    "\n",
    "\n"
   ],
   "execution_count": null,
   "outputs": []
  },
  {
   "cell_type": "code",
   "execution_count": null,
   "metadata": {},
   "outputs": [],
   "source": [
    "import pickle\n",
    "import pyreadr\n",
    "import pandas as pd\n",
    "import numpy as np"
   ]
  },
  {
   "cell_type": "markdown",
   "metadata": {},
   "source": [
    "## load R data"
   ],
   "execution_count": null,
   "outputs": []
  },
  {
   "cell_type": "code",
   "execution_count": null,
   "metadata": {},
   "outputs": [],
   "source": [
    "with open(\"../../model_input_R.pkl\", \"rb\") as fd:\n",
    "    objR = pickle.load(fd)"
   ]
  },
  {
   "cell_type": "markdown",
   "metadata": {},
   "source": [
    "## load Python data"
   ],
   "execution_count": null,
   "outputs": []
  },
  {
   "cell_type": "code",
   "execution_count": null,
   "metadata": {},
   "outputs": [],
   "source": [
    "with open(\"../../model_input_Py.pkl\", \"rb\") as fd:\n",
    "    objPy = pickle.load(fd)"
   ]
  },
  {
   "cell_type": "code",
   "execution_count": null,
   "metadata": {},
   "outputs": [],
   "source": [
    "PyKeys = set(objPy.keys())\n",
    "RKeys = set(objR.keys())"
   ]
  },
  {
   "cell_type": "code",
   "execution_count": null,
   "metadata": {},
   "outputs": [],
   "source": [
    "ok_fields = set(['deaths', 'cases', 'covariate1', 'covariate2', 'covariate3', 'covariate5', 'covariate6', 'EpidemicStart',\n",
    "'N', 'N0', 'N2', 'pop', 'x',\n",
    "'M', #  => check why missing 4 regions\n",
    "'regions'\n",
    "])"
   ]
  },
  {
   "cell_type": "code",
   "execution_count": null,
   "metadata": {},
   "outputs": [],
   "source": [
    "# find which row matches between Py and R looking into deaths\n",
    "\n",
    "for field in ['cases', 'deaths']:\n",
    "    correspondance = {}\n",
    "    for idx, row_death in enumerate(objPy[field].transpose()):\n",
    "        results = []\n",
    "        for idxR, row_deathR in enumerate(objR[field].transpose()):\n",
    "            if (row_death == row_deathR).all():\n",
    "                results.append(idxR)\n",
    "        correspondance[idx] = results\n",
    "    print(field, correspondance)"
   ]
  },
  {
   "cell_type": "code",
   "execution_count": null,
   "metadata": {},
   "outputs": [],
   "source": [
    "objPy[field].shape, objR[field].shape"
   ]
  },
  {
   "cell_type": "code",
   "execution_count": null,
   "metadata": {},
   "outputs": [],
   "source": [
    "sel = (objPy[field].transpose()[0] == objR[field].transpose()[9]) == False\n",
    "objPy[field].transpose()[0][sel],  objR[field].transpose()[9][sel]\n",
    ""
   ]
  },
  {
   "cell_type": "code",
   "execution_count": null,
   "metadata": {},
   "outputs": [],
   "source": [
    "for idx, row in enumerate(objR[field].transpose()):\n",
    "    if 20 in row:\n",
    "        if 11 in row:\n",
    "            if 12 in row:\n",
    "                print(idx, row)\n",
    ""
   ]
  },
  {
   "cell_type": "code",
   "execution_count": null,
   "metadata": {},
   "outputs": [],
   "source": [
    "map_Py_R = {k: v[0] for k, v in correspondance.items()}\n",
    "map_R_Py = {v[0]: k for k, v in correspondance.items()}\n",
    ""
   ]
  },
  {
   "cell_type": "code",
   "execution_count": null,
   "metadata": {},
   "outputs": [],
   "source": [
    "for field in RKeys:\n",
    "    if field not in ['covariate4']: \n",
    "        row_Py = objPy[field]\n",
    "        row_R = objR[field]\n",
    "        if isinstance(row_Py, (int, float)):\n",
    "            print(field, type(row_Py), row_Py == row_R)\n",
    "        elif isinstance(row_Py, (list, set)):\n",
    "            if len(row_Py) == len(map_Py_R):\n",
    "                same = True\n",
    "                for idxPy, idxR in map_Py_R.items():\n",
    "                    same &= row_Py[idxPy] == row_R[idxR]\n",
    "                print(field, same)\n",
    "            else:\n",
    "                print(field, type(row_Py), row_Py == row_R)\n",
    "        elif hasattr(row_Py, 'shape'):\n",
    "            if row_Py.shape[0] == len(map_Py_R):\n",
    "                same = True\n",
    "                for idxPy, idxR in map_Py_R.items():\n",
    "                    same &= row_Py[idxPy] == row_R[idxR]\n",
    "                print(field, same)\n",
    "            elif row_Py.shape[1] == len(map_Py_R):\n",
    "                print(field)\n",
    "                same = True\n",
    "                for idxPy, idxR in map_Py_R.items():\n",
    "                    try:\n",
    "                        same &= row_Py[:,idxPy] == np.array(row_R[:,idxR])\n",
    "                        #same &= row_Py[:,idxPy] == row_R[:,idxR]\n",
    "                    except:\n",
    "                        same &= row_Py[:,idxPy] == np.array(row_R[:,idxR])\n",
    "                print(field, same)\n",
    ""
   ]
  },
  {
   "cell_type": "code",
   "execution_count": null,
   "metadata": {},
   "outputs": [],
   "source": []
  },
  {
   "cell_type": "code",
   "execution_count": null,
   "metadata": {},
   "outputs": [],
   "source": [
    "print([(key, objPy[key].shape, objR[key].shape) for key in PyKeys if hasattr(objPy[key],'shape')])"
   ]
  },
  {
   "cell_type": "code",
   "execution_count": null,
   "metadata": {},
   "outputs": [],
   "source": [
    "field = 'f'\n",
    "print(objPy[field].shape, objR[field].shape)\n",
    "print((objPy[field] != objR[field]).sum())\n",
    ""
   ]
  },
  {
   "cell_type": "code",
   "execution_count": null,
   "metadata": {},
   "outputs": [],
   "source": [
    "PyKeys.difference(ok_fields)"
   ]
  },
  {
   "cell_type": "code",
   "execution_count": null,
   "metadata": {},
   "outputs": [],
   "source": [
    "print(objPy['deaths'].shape, objR['deaths'].shape)\n",
    "print(sum(objPy['deaths'] < 0), sum(objR['deaths'] < 0))"
   ]
  },
  {
   "cell_type": "code",
   "execution_count": null,
   "metadata": {},
   "outputs": [],
   "source": [
    "field = 'f'\n",
    "objPy[field].shape , objR[field].shape\n",
    "#np.array(objPy[field]) == np.array(objR[field])\n",
    ""
   ]
  },
  {
   "cell_type": "code",
   "execution_count": null,
   "metadata": {},
   "outputs": [],
   "source": [
    "#objPy['regions'], objR['regions']"
   ]
  },
  {
   "cell_type": "code",
   "execution_count": null,
   "metadata": {},
   "outputs": [],
   "source": [
    "set(objPy['regions']).difference(set(objR['regions'])), set(objR['regions']).difference(set(objPy['regions']))\n",
    ""
   ]
  },
  {
   "cell_type": "code",
   "execution_count": null,
   "metadata": {},
   "outputs": [],
   "source": [
    "#field = 'M'\n",
    "#objPy[field] , objR[field]"
   ]
  },
  {
   "cell_type": "code",
   "execution_count": null,
   "metadata": {},
   "outputs": [],
   "source": [
    "#PyKeys"
   ]
  },
  {
   "cell_type": "code",
   "execution_count": null,
   "metadata": {},
   "outputs": [],
   "source": [
    "idxPyItaly = objPy['regions'].index('Italy')\n",
    "idxRItaly = objR['regions'].index('Italy')\n",
    "print(idxPyItaly, idxRItaly)"
   ]
  },
  {
   "cell_type": "code",
   "execution_count": null,
   "metadata": {},
   "outputs": [],
   "source": [
    "#len(objPy['deaths'][:,idxPyItaly]),len(objR['deaths'][:,idxRItaly])\n",
    "idx_t = 80\n",
    "objPy['deaths'][:,idxPyItaly][idx_t:idx_t+10],objR['deaths'][:,idxRItaly][idx_t:idx_t+10]\n",
    ""
   ]
  },
  {
   "cell_type": "code",
   "execution_count": null,
   "metadata": {},
   "outputs": [],
   "source": [
    "print(PyKeys.difference(RKeys), RKeys.difference(PyKeys))"
   ]
  },
  {
   "cell_type": "code",
   "execution_count": null,
   "metadata": {},
   "outputs": [],
   "source": [
    "print([(key, type(objPy[key]), type(objR[key])) for key in PyKeys if type(objPy[key]) != type(objR[key])])"
   ]
  },
  {
   "cell_type": "code",
   "execution_count": null,
   "metadata": {},
   "outputs": [],
   "source": []
  },
  {
   "cell_type": "code",
   "execution_count": null,
   "metadata": {},
   "outputs": [],
   "source": [
    "idxPy = 0\n",
    "idxR = map_Py_R[idxPy]\n",
    "\n",
    "# covariat4 ???? => try values\n",
    "covariate_names = ['covariate{}'.format(idx+1) for idx in range(6) if idx != 3]\n",
    "covariate_names = ['covariate{}'.format(idx+1) for idx in range(6)]\n",
    "\n",
    "cov_corr = {}\n",
    "for fieldPy in covariate_names:\n",
    "    results = []\n",
    "    #print('py', fieldPy)\n",
    "    row_Py = objPy[fieldPy][:,idxPy] \n",
    "    for fieldR in covariate_names:\n",
    "        #print('R', fieldR, objR[fieldR].shape)\n",
    "        try:\n",
    "            row_R = objR[fieldR][:,idxR] \n",
    "        except:\n",
    "            row_R = objR[fieldR].values[:,idxR] \n",
    "        if (row_Py == row_R).all():\n",
    "            results.append(fieldR)\n",
    "    cov_corr[fieldPy] = results\n",
    "\n",
    "print(cov_corr)\n",
    "\n"
   ]
  },
  {
   "cell_type": "code",
   "execution_count": null,
   "metadata": {},
   "outputs": [],
   "source": [
    "len(objPy[field])"
   ]
  },
  {
   "cell_type": "code",
   "execution_count": null,
   "metadata": {},
   "outputs": [],
   "source": [
    "idx_t = 45\n",
    "#field = 'cases'\n",
    "field = 'EpidemicStart'\n",
    "field = 'N'\n",
    "field = 'pop'\n",
    "\n",
    "#\n",
    "print(objPy[field][idxPy] == objR[field][idxR])\n",
    "print(objPy[field][idxPy], objR[field][idxR])\n",
    ""
   ]
  },
  {
   "cell_type": "code",
   "execution_count": null,
   "metadata": {},
   "outputs": [],
   "source": [
    "idx_t = 45\n",
    "#field = 'cases'\n",
    "field = 'covariate1'\n",
    "#\n",
    "print(objPy[field][:,idxPy].astype(np.int) == objR[field][:,idxR].astype(np.int))\n",
    "idx_t = 12\n",
    "print(objPy[field][:,idxPy][idx_t:idx_t+10],objR[field][:,idxR][idx_t:idx_t+10])\n",
    "idx_t = 45\n",
    "print(objPy[field][:,idxPy][idx_t:idx_t+10],objR[field][:,idxR][idx_t:idx_t+10])\n"
   ]
  },
  {
   "cell_type": "code",
   "execution_count": null,
   "metadata": {},
   "outputs": [],
   "source": []
  },
  {
   "cell_type": "code",
   "execution_count": null,
   "metadata": {},
   "outputs": [],
   "source": [
    "for idxPy, lidxR in correspondance.items():\n",
    "    for idxR in lidxR:\n",
    "        print(objPy['regions'][idxPy], objR['regions'][idxR])"
   ]
  },
  {
   "cell_type": "code",
   "execution_count": null,
   "metadata": {},
   "outputs": [],
   "source": [
    "print([el for el in objPy['regions'] if 'grand' in el.lower()])\n",
    "idxPyGrand = objPy['regions'].index('Grand Est')\n",
    "idxRGrand = objR['regions'].index('Grand Est')\n",
    "\n",
    "#len(objPy['deaths'][:,idxPyItaly]),len(objR['deaths'][:,idxRItaly])\n",
    "idx_t = 10\n",
    "\n",
    "objPy['deaths'][:,idxPyGrand][idx_t:idx_t+10],objR['deaths'][:,idxRGrand][idx_t:idx_t+10]\n",
    "\n",
    "#objPy['deaths'][:,idxPyGrand] == objR['deaths'][:,idxRGrand]"
   ]
  },
  {
   "cell_type": "code",
   "execution_count": null,
   "metadata": {},
   "outputs": [],
   "source": [
    "print(correspondance)"
   ]
  },
  {
   "cell_type": "code",
   "execution_count": null,
   "metadata": {},
   "outputs": [],
   "source": []
  },
  {
   "cell_type": "code",
   "execution_count": null,
   "metadata": {},
   "outputs": [],
   "source": [
    "#print([(key, objPy[key] == objR[key]) for key in PyKeys])\n",
    "print([(key, (objPy[key] == objR[key]).all()) for key in PyKeys if hasattr(objPy[key],'shape')])"
   ]
  },
  {
   "cell_type": "code",
   "execution_count": null,
   "metadata": {},
   "outputs": [],
   "source": [
    "df_npi = pd.read_csv(\"data/interventions.csv\")\n",
    "df_npi.head(3)"
   ]
  },
  {
   "cell_type": "code",
   "execution_count": null,
   "metadata": {},
   "outputs": [],
   "source": [
    "df_interventions = df_npi.copy()\n",
    "\n",
    "# transpose\n",
    "#df_interventions = df_interventions.reset_index().groupby('Country')\n",
    "#[['Country', 'Event', 'Date effective']]\\\n",
    "df_interventions = df_interventions\\\n",
    "    .groupby('Country')[['Event', 'Date effective']].apply(lambda df: df.reset_index(drop=True)\n",
    "    .groupby('Event').apply(lambda df: df[['Date effective']].reset_index(drop=True)).unstack()  #.apply(lambda df: df.reset_index(drop=True)) #.unstack())\n",
    "    .transpose()) #.transpose().unstack()\n",
    "#df.groupby('userid')['name'].apply(lambda df: df.reset_index(drop=True)).unstack()\n",
    "#print(df_interventions.columns)\n",
    "#df_interventions = df_interventions.set_index\n",
    "#    .transpose()\n",
    "df_interventions = df_interventions.reset_index().set_index('Country')\n",
    "df_interventions.drop(columns=['level_1', 'level_2'], inplace=True)\n"
   ]
  },
  {
   "cell_type": "code",
   "execution_count": null,
   "metadata": {},
   "outputs": [],
   "source": [
    "df_interventions.head()"
   ]
  },
  {
   "cell_type": "code",
   "execution_count": null,
   "metadata": {},
   "outputs": [],
   "source": []
  },
  {
   "cell_type": "code",
   "execution_count": null,
   "metadata": {},
   "outputs": [],
   "source": [
    "data_france_R = pyreadr.read_r(\"data/all-france.rds\")"
   ]
  },
  {
   "cell_type": "code",
   "execution_count": null,
   "metadata": {},
   "outputs": [],
   "source": [
    "df_france_formated = pd.read_csv(\"data/all-france_formated.csv\")\n",
    "\n",
    "df_france_formated[df_france_formated.countriesAndTerritories == \"Grand Est\"].head()\n",
    ""
   ]
  },
  {
   "cell_type": "code",
   "execution_count": null,
   "metadata": {},
   "outputs": [],
   "source": [
    "df_france = pd.read_csv(\"data/all-france.csv\")"
   ]
  },
  {
   "cell_type": "code",
   "execution_count": null,
   "metadata": {},
   "outputs": [],
   "source": [
    "df_france[df_france.countriesAndTerritories == \"Grand Est\"].head()"
   ]
  },
  {
   "cell_type": "code",
   "execution_count": null,
   "metadata": {},
   "outputs": [],
   "source": [
    "df_france.countriesAndTerritories.unique() # .head()"
   ]
  },
  {
   "cell_type": "code",
   "execution_count": null,
   "metadata": {},
   "outputs": [],
   "source": [
    "data_france_R"
   ]
  },
  {
   "cell_type": "code",
   "execution_count": null,
   "metadata": {},
   "outputs": [],
   "source": []
  }
 ]
}